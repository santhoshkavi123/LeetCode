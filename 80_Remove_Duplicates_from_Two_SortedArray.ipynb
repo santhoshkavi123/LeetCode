{
 "cells": [
  {
   "cell_type": "code",
   "execution_count": 2,
   "metadata": {},
   "outputs": [],
   "source": [
    "import pandas as pd\n",
    "import numpy as np\n",
    "import matplotlib.pyplot as plt\n",
    "\n",
    "from typing import List"
   ]
  },
  {
   "cell_type": "code",
   "execution_count": 9,
   "metadata": {},
   "outputs": [],
   "source": [
    "class Solution:\n",
    "    def removeDuplicates(nums: List[int]) -> int:\n",
    "        \n",
    "        dict = {}\n",
    "        index  = 0\n",
    "\n",
    "        for i in range(0, len(nums)):\n",
    "\n",
    "            if str(nums[i]) in dict.keys():\n",
    "\n",
    "                if dict[str(nums[i])] <=1:\n",
    "                    # Replace the index value \n",
    "                    nums[index] = nums[i]\n",
    "                    index += 1\n",
    "\n",
    "                    dict[str(nums[i])] = dict[str(nums[i])] + 1\n",
    "\n",
    "            else:\n",
    "                # Replace the index value \n",
    "                nums[index] = nums[i]\n",
    "                index += 1\n",
    "\n",
    "                dict[str(nums[i])] =  1\n",
    "\n",
    "        \n",
    "        return index, nums[:index]\n",
    "    "
   ]
  },
  {
   "cell_type": "code",
   "execution_count": 10,
   "metadata": {},
   "outputs": [
    {
     "data": {
      "text/plain": [
       "(5, [1, 1, 2, 2, 3])"
      ]
     },
     "execution_count": 10,
     "metadata": {},
     "output_type": "execute_result"
    }
   ],
   "source": [
    "Solution.removeDuplicates(nums = [1,1,1,2,2,3])"
   ]
  },
  {
   "cell_type": "code",
   "execution_count": null,
   "metadata": {},
   "outputs": [],
   "source": []
  }
 ],
 "metadata": {
  "kernelspec": {
   "display_name": "Python 3",
   "language": "python",
   "name": "python3"
  },
  "language_info": {
   "codemirror_mode": {
    "name": "ipython",
    "version": 3
   },
   "file_extension": ".py",
   "mimetype": "text/x-python",
   "name": "python",
   "nbconvert_exporter": "python",
   "pygments_lexer": "ipython3",
   "version": "3.12.5"
  }
 },
 "nbformat": 4,
 "nbformat_minor": 2
}
